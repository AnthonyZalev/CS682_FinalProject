{
  "cells": [
    {
      "cell_type": "markdown",
      "source": [
        "# Mount"
      ],
      "metadata": {
        "id": "mekq2tMuqbF7"
      }
    },
    {
      "cell_type": "code",
      "source": [
        "from google.colab import drive\n",
        "drive.mount('/content/drive')\n",
        "\n",
        "import sys\n",
        "sys.path.append('/content/drive/My Drive/')\n",
        "%cd /content/drive/My\\ Drive/"
      ],
      "metadata": {
        "colab": {
          "base_uri": "https://localhost:8080/"
        },
        "id": "sXCxMgtNRzvD",
        "outputId": "a5e3d954-dcfc-47ff-b275-50906c2488f8"
      },
      "execution_count": 1,
      "outputs": [
        {
          "output_type": "stream",
          "name": "stdout",
          "text": [
            "Mounted at /content/drive\n",
            "/content/drive/My Drive\n"
          ]
        }
      ]
    },
    {
      "cell_type": "markdown",
      "source": [
        "# Load Data"
      ],
      "metadata": {
        "id": "-G6WVTTwqcQh"
      }
    },
    {
      "cell_type": "code",
      "execution_count": 2,
      "metadata": {
        "id": "H83vHY869yB5"
      },
      "outputs": [],
      "source": [
        "import torch\n",
        "import torchvision\n",
        "import torchvision.transforms as transforms\n",
        "import torch.nn as nn\n",
        "import torch.nn.functional as F\n",
        "import torchvision.models as models\n",
        "import torch.optim as optim\n",
        "import numpy as np\n",
        "import sys\n",
        "from tqdm import tqdm"
      ]
    },
    {
      "cell_type": "code",
      "execution_count": 3,
      "metadata": {
        "colab": {
          "base_uri": "https://localhost:8080/"
        },
        "id": "AYpXJQ_n9yCF",
        "outputId": "0d50c4ed-4ed8-4295-a4a7-e2ed8ac09d08"
      },
      "outputs": [
        {
          "output_type": "stream",
          "name": "stdout",
          "text": [
            "Files already downloaded and verified\n",
            "6000\n"
          ]
        },
        {
          "output_type": "stream",
          "name": "stderr",
          "text": [
            "/usr/local/lib/python3.10/dist-packages/torch/utils/data/dataloader.py:557: UserWarning: This DataLoader will create 8 worker processes in total. Our suggested max number of worker in current system is 2, which is smaller than what this DataLoader is going to create. Please be aware that excessive worker creation might get DataLoader running slow or even freeze, lower the worker number to avoid potential slowness/freeze if necessary.\n",
            "  warnings.warn(_create_warning_msg(\n"
          ]
        },
        {
          "output_type": "stream",
          "name": "stdout",
          "text": [
            "Files already downloaded and verified\n",
            "dog: 579 samples\n",
            "car: 586 samples\n",
            "bird: 665 samples\n",
            "frog: 565 samples\n",
            "ship: 623 samples\n",
            "plane: 626 samples\n",
            "cat: 628 samples\n",
            "deer: 555 samples\n",
            "truck: 593 samples\n",
            "horse: 580 samples\n"
          ]
        }
      ],
      "source": [
        "from collections import defaultdict\n",
        "\n",
        "device = torch.device('cuda' if torch.cuda.is_available() else 'cpu')\n",
        "\n",
        "batch_size = 128\n",
        "default_transform = transforms.Compose([\n",
        "    transforms.ToTensor(),\n",
        "    transforms.Normalize((0.5, 0.5, 0.5), (0.5, 0.5, 0.5))\n",
        "])\n",
        "\n",
        "trainset = torchvision.datasets.CIFAR10(root='./data', train=True, download = True, transform = default_transform)\n",
        "\n",
        "split_ratio = 0.8\n",
        "total_size = len(trainset)\n",
        "train_size = int(split_ratio * total_size)\n",
        "valid_size = total_size - train_size\n",
        "train_dataset, valid_dataset = torch.utils.data.random_split(trainset, [train_size, valid_size])\n",
        "\n",
        "second_split = 0.15\n",
        "total_size = len(train_dataset)\n",
        "train_size = int(second_split * total_size)\n",
        "discard_size = total_size - train_size\n",
        "print(train_size)\n",
        "train_dataset, discard_dataset = torch.utils.data.random_split(train_dataset, [train_size, discard_size])\n",
        "\n",
        "trainloader = torch.utils.data.DataLoader(train_dataset, batch_size=batch_size, shuffle=True, num_workers=8)\n",
        "validloader = torch.utils.data.DataLoader(valid_dataset, batch_size=batch_size, shuffle=False, num_workers=8)\n",
        "\n",
        "\n",
        "testset = torchvision.datasets.CIFAR10(root='./data', train=False, download=True, transform = default_transform)\n",
        "\n",
        "testloader = torch.utils.data.DataLoader(testset, batch_size=batch_size, shuffle=False, num_workers=8)\n",
        "\n",
        "classes = ('plane', 'car', 'bird', 'cat',\n",
        "           'deer', 'dog', 'frog', 'horse', 'ship', 'truck')\n",
        "\n",
        "class_distribution = defaultdict(int)\n",
        "for _, target in trainloader.dataset:\n",
        "    class_name = classes[target]\n",
        "    class_distribution[class_name] += 1\n",
        "for class_name, count in class_distribution.items():\n",
        "    print(f\"{class_name}: {count} samples\")"
      ]
    },
    {
      "cell_type": "markdown",
      "source": [
        "# ResNet50"
      ],
      "metadata": {
        "id": "M74rslXDqd-H"
      }
    },
    {
      "cell_type": "code",
      "source": [
        "from torch.optim.lr_scheduler import StepLR\n",
        "\n",
        "resnet50 = models.resnet50(pretrained=True)\n",
        "num_classes = 10\n",
        "resnet50.fc = nn.Linear(resnet50.fc.in_features, num_classes)\n",
        "resnet50 = resnet50.to(device)\n",
        "\n",
        "criterion = nn.CrossEntropyLoss()\n",
        "optimizer = optim.SGD(resnet50.parameters(), lr=1e-2, momentum=0.9)\n",
        "\n",
        "scheduler = StepLR(optimizer, step_size=20, gamma=0.1)"
      ],
      "metadata": {
        "id": "Orl0nn7NNjhp",
        "colab": {
          "base_uri": "https://localhost:8080/"
        },
        "outputId": "57b0b1c7-4db8-4225-8a06-8ab00c86db0c"
      },
      "execution_count": 7,
      "outputs": [
        {
          "output_type": "stream",
          "name": "stderr",
          "text": [
            "/usr/local/lib/python3.10/dist-packages/torchvision/models/_utils.py:208: UserWarning: The parameter 'pretrained' is deprecated since 0.13 and may be removed in the future, please use 'weights' instead.\n",
            "  warnings.warn(\n",
            "/usr/local/lib/python3.10/dist-packages/torchvision/models/_utils.py:223: UserWarning: Arguments other than a weight enum or `None` for 'weights' are deprecated since 0.13 and may be removed in the future. The current behavior is equivalent to passing `weights=ResNet50_Weights.IMAGENET1K_V1`. You can also use `weights=ResNet50_Weights.DEFAULT` to get the most up-to-date weights.\n",
            "  warnings.warn(msg)\n"
          ]
        }
      ]
    },
    {
      "cell_type": "code",
      "source": [
        "num_epochs = 50\n",
        "\n",
        "for epoch in range(num_epochs):\n",
        "  resnet50.train()\n",
        "  running_loss = 0.0\n",
        "\n",
        "  for inputs, labels in trainloader:\n",
        "    inputs, labels = inputs.to(device), labels.to(device)\n",
        "\n",
        "    optimizer.zero_grad()\n",
        "\n",
        "    outputs = resnet50(inputs)\n",
        "    loss = criterion(outputs, labels)\n",
        "    loss.backward()\n",
        "    optimizer.step()\n",
        "\n",
        "    running_loss += loss.item()\n",
        "\n",
        "  scheduler.step()\n",
        "\n",
        "  print(f'Epoch {epoch + 1}/{num_epochs}, Loss: {running_loss / len(trainloader)}')\n",
        "\n",
        "resnet50.eval()\n",
        "correct = 0\n",
        "total = 0\n",
        "\n",
        "with torch.no_grad():\n",
        "  for inputs, labels in testloader:\n",
        "    inputs, labels = inputs.to(device), labels.to(device)\n",
        "\n",
        "    outputs = resnet50(inputs)\n",
        "    _, predicted = torch.max(outputs.data, 1)\n",
        "    total += labels.size(0)\n",
        "    correct += (predicted == labels).sum().item()\n",
        "\n",
        "accuracy = correct / total\n",
        "print(f'Test Accuracy: {100 * accuracy:.2f}%')"
      ],
      "metadata": {
        "colab": {
          "base_uri": "https://localhost:8080/"
        },
        "id": "L3vea6N5qfti",
        "outputId": "1d347dec-5527-43be-da08-bcab99cd0f54"
      },
      "execution_count": 8,
      "outputs": [
        {
          "output_type": "stream",
          "name": "stderr",
          "text": [
            "/usr/local/lib/python3.10/dist-packages/torch/utils/data/dataloader.py:557: UserWarning: This DataLoader will create 8 worker processes in total. Our suggested max number of worker in current system is 2, which is smaller than what this DataLoader is going to create. Please be aware that excessive worker creation might get DataLoader running slow or even freeze, lower the worker number to avoid potential slowness/freeze if necessary.\n",
            "  warnings.warn(_create_warning_msg(\n"
          ]
        },
        {
          "output_type": "stream",
          "name": "stdout",
          "text": [
            "Epoch 1/50, Loss: 1.5882666187083467\n",
            "Epoch 2/50, Loss: 0.7831332696245071\n",
            "Epoch 3/50, Loss: 0.3872378753854873\n",
            "Epoch 4/50, Loss: 0.22705557419264571\n",
            "Epoch 5/50, Loss: 0.19684301697193307\n",
            "Epoch 6/50, Loss: 0.14477936233928862\n",
            "Epoch 7/50, Loss: 0.10994838542760686\n",
            "Epoch 8/50, Loss: 0.20912751531664361\n",
            "Epoch 9/50, Loss: 0.1441792130787322\n",
            "Epoch 10/50, Loss: 0.06652153118890017\n",
            "Epoch 11/50, Loss: 0.029906640374200776\n",
            "Epoch 12/50, Loss: 0.020088323852681417\n",
            "Epoch 13/50, Loss: 0.034557473221595615\n",
            "Epoch 14/50, Loss: 0.03838806004917368\n",
            "Epoch 15/50, Loss: 0.023303703065624737\n",
            "Epoch 16/50, Loss: 0.022659093567586327\n",
            "Epoch 17/50, Loss: 0.021117615015642282\n",
            "Epoch 18/50, Loss: 0.01887240558070071\n",
            "Epoch 19/50, Loss: 0.012147131031057103\n",
            "Epoch 20/50, Loss: 0.01172822046816904\n",
            "Epoch 21/50, Loss: 0.005661795721414123\n",
            "Epoch 22/50, Loss: 0.0029835596413133624\n",
            "Epoch 23/50, Loss: 0.0034117679720982274\n",
            "Epoch 24/50, Loss: 0.001970668524278308\n",
            "Epoch 25/50, Loss: 0.0014403224154870878\n",
            "Epoch 26/50, Loss: 0.0016520500236978516\n",
            "Epoch 27/50, Loss: 0.0015400447734096583\n",
            "Epoch 28/50, Loss: 0.0013238473239904666\n",
            "Epoch 29/50, Loss: 0.0010886427172660292\n",
            "Epoch 30/50, Loss: 0.0007561351802073756\n",
            "Epoch 31/50, Loss: 0.0011671272653249153\n",
            "Epoch 32/50, Loss: 0.0010741263622742524\n",
            "Epoch 33/50, Loss: 0.000911785454670106\n",
            "Epoch 34/50, Loss: 0.0007684948681383096\n",
            "Epoch 35/50, Loss: 0.0009047516528455085\n",
            "Epoch 36/50, Loss: 0.0009527328245198117\n",
            "Epoch 37/50, Loss: 0.001437383441798181\n",
            "Epoch 38/50, Loss: 0.0007977792903399491\n",
            "Epoch 39/50, Loss: 0.0005197630607847501\n",
            "Epoch 40/50, Loss: 0.0010177377344200765\n",
            "Epoch 41/50, Loss: 0.000556949430864869\n",
            "Epoch 42/50, Loss: 0.0004437492215730983\n",
            "Epoch 43/50, Loss: 0.0004491725285720833\n",
            "Epoch 44/50, Loss: 0.0005206204706213457\n",
            "Epoch 45/50, Loss: 0.0008467861930802564\n",
            "Epoch 46/50, Loss: 0.0017291177765458843\n",
            "Epoch 47/50, Loss: 0.00045671955423189347\n",
            "Epoch 48/50, Loss: 0.0005847004219329857\n",
            "Epoch 49/50, Loss: 0.00044878531929150106\n",
            "Epoch 50/50, Loss: 0.0007017289088330569\n",
            "Test Accuracy: 75.49%\n"
          ]
        }
      ]
    },
    {
      "cell_type": "code",
      "source": [
        "import torch\n",
        "import torch.nn as nn\n",
        "import torch.optim as optim\n",
        "from torch.optim.lr_scheduler import StepLR\n",
        "from torchvision import models\n",
        "\n",
        "learning_rates = [1e-2, 3e-2]\n",
        "num_epochs_list = [20, 30, 40]\n",
        "\n",
        "best_accuracy = 0.0\n",
        "best_params = {}\n",
        "best_model = None\n",
        "\n",
        "for lr in learning_rates:\n",
        "    for num_epochs in num_epochs_list:\n",
        "\n",
        "        resnet50 = models.resnet50(pretrained=True)\n",
        "        num_classes = 10\n",
        "        resnet50.fc = nn.Linear(resnet50.fc.in_features, num_classes)\n",
        "        resnet50 = resnet50.to(device)\n",
        "\n",
        "\n",
        "        criterion = nn.CrossEntropyLoss()\n",
        "        optimizer = optim.SGD(resnet50.parameters(), lr=lr, momentum=0.9)\n",
        "        scheduler = StepLR(optimizer, step_size=20, gamma=0.1)\n",
        "\n",
        "\n",
        "        for epoch in range(num_epochs):\n",
        "            resnet50.train()\n",
        "            running_loss = 0.0\n",
        "\n",
        "            for inputs, labels in trainloader:\n",
        "                inputs, labels = inputs.to(device), labels.to(device)\n",
        "                optimizer.zero_grad()\n",
        "                outputs = resnet50(inputs)\n",
        "                loss = criterion(outputs, labels)\n",
        "                loss.backward()\n",
        "                optimizer.step()\n",
        "                running_loss += loss.item()\n",
        "\n",
        "            scheduler.step()\n",
        "\n",
        "\n",
        "        resnet50.eval()\n",
        "        correct = 0\n",
        "        total = 0\n",
        "\n",
        "        with torch.no_grad():\n",
        "            for inputs, labels in validloader:\n",
        "                inputs, labels = inputs.to(device), labels.to(device)\n",
        "                outputs = resnet50(inputs)\n",
        "                _, predicted = torch.max(outputs.data, 1)\n",
        "                total += labels.size(0)\n",
        "                correct += (predicted == labels).sum().item()\n",
        "\n",
        "        accuracy = correct / total\n",
        "\n",
        "        if accuracy > best_accuracy:\n",
        "            best_accuracy = accuracy\n",
        "            best_params = {'lr': lr, 'num_epochs': num_epochs}\n",
        "            best_model = resnet50\n",
        "\n",
        "print(f'Best Hyperparameters: {best_params}')\n",
        "print(f'Best Valid Accuracy: {100 * best_accuracy:.2f}%')\n",
        "\n",
        "\n",
        "correct = 0\n",
        "total = 0\n",
        "\n",
        "with torch.no_grad():\n",
        "  for inputs, labels in testloader:\n",
        "    inputs, labels = inputs.to(device), labels.to(device)\n",
        "\n",
        "    outputs = best_model(inputs)\n",
        "    _, predicted = torch.max(outputs.data, 1)\n",
        "    total += labels.size(0)\n",
        "    correct += (predicted == labels).sum().item()\n",
        "\n",
        "accuracy = correct / total\n",
        "print(f'Test Accuracy: {100 * accuracy:.2f}%')\n"
      ],
      "metadata": {
        "colab": {
          "base_uri": "https://localhost:8080/"
        },
        "id": "R753-_kdrveN",
        "outputId": "7f2276fd-1d5a-4659-d48d-b4e2457baece"
      },
      "execution_count": 10,
      "outputs": [
        {
          "output_type": "stream",
          "name": "stderr",
          "text": [
            "/usr/local/lib/python3.10/dist-packages/torchvision/models/_utils.py:208: UserWarning: The parameter 'pretrained' is deprecated since 0.13 and may be removed in the future, please use 'weights' instead.\n",
            "  warnings.warn(\n",
            "/usr/local/lib/python3.10/dist-packages/torchvision/models/_utils.py:223: UserWarning: Arguments other than a weight enum or `None` for 'weights' are deprecated since 0.13 and may be removed in the future. The current behavior is equivalent to passing `weights=ResNet50_Weights.IMAGENET1K_V1`. You can also use `weights=ResNet50_Weights.DEFAULT` to get the most up-to-date weights.\n",
            "  warnings.warn(msg)\n",
            "/usr/local/lib/python3.10/dist-packages/torch/utils/data/dataloader.py:557: UserWarning: This DataLoader will create 8 worker processes in total. Our suggested max number of worker in current system is 2, which is smaller than what this DataLoader is going to create. Please be aware that excessive worker creation might get DataLoader running slow or even freeze, lower the worker number to avoid potential slowness/freeze if necessary.\n",
            "  warnings.warn(_create_warning_msg(\n"
          ]
        },
        {
          "output_type": "stream",
          "name": "stdout",
          "text": [
            "Best Hyperparameters: {'lr': 0.01, 'num_epochs': 40}\n",
            "Best Valid Accuracy: 76.03%\n",
            "Test Accuracy: 75.19%\n"
          ]
        }
      ]
    },
    {
      "cell_type": "markdown",
      "source": [
        "# Save Model"
      ],
      "metadata": {
        "id": "_2tNbDLFh4qH"
      }
    },
    {
      "cell_type": "code",
      "source": [
        "torch.save(resnet50.state_dict(), 'resnet.pth')"
      ],
      "metadata": {
        "id": "8at82rRqh4bS"
      },
      "execution_count": null,
      "outputs": []
    },
    {
      "cell_type": "markdown",
      "source": [
        "# Load Model"
      ],
      "metadata": {
        "id": "gy3Xvkedh7BV"
      }
    },
    {
      "cell_type": "code",
      "source": [
        "state_dict = torch.load('resnet.pth', map_location=torch.device(device))\n",
        "\n",
        "resnet50 = models.resnet50(pretrained=True)\n",
        "resnet50.fc = nn.Linear(resnet50.fc.in_features, num_classes)\n",
        "resnet50.to(device)\n",
        "\n",
        "resnet50.load_state_dict(state_dict)"
      ],
      "metadata": {
        "id": "b9t3WZ4mh93h",
        "colab": {
          "base_uri": "https://localhost:8080/"
        },
        "outputId": "c10634c1-783f-4b90-e36a-a51dfe10e94d"
      },
      "execution_count": null,
      "outputs": [
        {
          "output_type": "execute_result",
          "data": {
            "text/plain": [
              "<All keys matched successfully>"
            ]
          },
          "metadata": {},
          "execution_count": 75
        }
      ]
    }
  ],
  "metadata": {
    "accelerator": "GPU",
    "colab": {
      "provenance": [],
      "gpuType": "T4",
      "toc_visible": true
    },
    "kernelspec": {
      "display_name": "Python 3",
      "name": "python3"
    },
    "language_info": {
      "codemirror_mode": {
        "name": "ipython",
        "version": 3
      },
      "file_extension": ".py",
      "mimetype": "text/x-python",
      "name": "python",
      "nbconvert_exporter": "python",
      "pygments_lexer": "ipython3",
      "version": "3.9.7"
    }
  },
  "nbformat": 4,
  "nbformat_minor": 0
}